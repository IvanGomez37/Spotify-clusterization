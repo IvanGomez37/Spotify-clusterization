{
 "cells": [
  {
   "cell_type": "code",
   "execution_count": null,
   "metadata": {},
   "outputs": [],
   "source": [
    "# IMPORTS\n",
    "import requests\n",
    "import base64\n",
    "import json\n",
    "import requests\n",
    "import numpy\n",
    "from sklearn.decomposition import PCA\n",
    "import pandas\n",
    "from sklearn.cluster import BisectingKMeans\n",
    "import matplotlib.pyplot as plt\n",
    "from sklearn.cluster import KMeans\n",
    "from sklearn.cluster import AffinityPropagation\n",
    ""
   ]
  },
  {
   "cell_type": "code",
   "execution_count": null,
   "metadata": {},
   "outputs": [],
   "source": [
    "# GLOBAL VARIABLES\n",
    "client_id = 'ce7fc85dbeaa40588c0a73a324a7654b'\n",
    "client_secret = '8388086841354dd4bada7a48dfe91b72'\n",
    ""
   ]
  },
  {
   "cell_type": "code",
   "execution_count": null,
   "metadata": {},
   "outputs": [],
   "source": [
    "# FUNCTIONS\n",
    "# Retrieves and convert token for using at Spotify's API\n",
    "def get_token() :\n",
    "    auth_string = client_id + \":\" + client_secret\n",
    "    auth_bytes = auth_string.encode(\"utf-8\")\n",
    "    auth_base64 = str(base64.b64encode(auth_bytes), \"utf-8\")\n",
    "\n",
    "    url = 'https://accounts.spotify.com/api/token'\n",
    "    headers = {\n",
    "        \"Authorization\" : \"Basic \" + auth_base64,\n",
    "        \"content-Type\" : \"application/x-www-form-urlencoded\"\n",
    "    }\n",
    "    data = {\"grant_type\" : \"client_credentials\"}\n",
    "\n",
    "    result = requests.post(url, headers = headers, data = data)\n",
    "\n",
    "    json_result = json.loads(result.content)\n",
    "    token = json_result[\"access_token\"]\n",
    "\n",
    "    return token\n",
    ""
   ]
  },
  {
   "cell_type": "code",
   "execution_count": null,
   "metadata": {},
   "outputs": [],
   "source": [
    "# Gives token a usable format to use in headers when requesting from API\n",
    "def get_auth_header(token):\n",
    "    return {\"Authorization\" : \"Bearer \" + token}\n",
    ""
   ]
  },
  {
   "cell_type": "code",
   "execution_count": null,
   "metadata": {},
   "outputs": [],
   "source": [
    "# Retrieves infomation from API from several tracks with their spotify ID's separeted by a coma (max 50 spotify ID's)\n",
    "def search_several_tracks(token, tracks):\n",
    "    url = 'https://api.spotify.com/v1/tracks'\n",
    "    headers = get_auth_header(token)\n",
    "    query = f\"?ids={tracks}\"\n",
    "\n",
    "    query_url = url + query\n",
    "\n",
    "    result = requests.get(query_url, headers=headers)\n",
    "\n",
    "    json_result = json.loads(result.content)\n",
    "\n",
    "    print(json_result)\n",
    ""
   ]
  },
  {
   "cell_type": "code",
   "execution_count": null,
   "metadata": {},
   "outputs": [],
   "source": [
    "# Retrieves audio analysis from API from a single track\n",
    "def audio_analysis(token, track_id):\n",
    "    url = 'https://api.spotify.com/v1/audio-analysis/'\n",
    "    headers = get_auth_header(token)\n",
    "    query_url = url + track_id\n",
    "\n",
    "    result = requests.get(query_url, headers = headers)\n",
    "\n",
    "    json_result = json.loads(result.content)\n",
    "\n",
    "    return json_result\n",
    ""
   ]
  },
  {
   "cell_type": "code",
   "execution_count": null,
   "metadata": {},
   "outputs": [],
   "source": [
    "# Retrieves information from API from a single track\n",
    "def audio_information(token, track_id):\n",
    "    url = 'https://api.spotify.com/v1/tracks/'\n",
    "    headers = get_auth_header(token)\n",
    "    query_url = url + track_id\n",
    "\n",
    "    result = requests.get(query_url, headers = headers)\n",
    "\n",
    "    json_result = json.loads(result.content)\n",
    "\n",
    "    return json_result\n",
    ""
   ]
  },
  {
   "cell_type": "code",
   "execution_count": null,
   "metadata": {},
   "outputs": [],
   "source": [
    "# Returns a list whit general info from a track analysis (duration, loudness, tempo, time_signature, key, mode)\n",
    "def creates_general_info(track_analysis):\n",
    "    track = track_analysis[\"track\"]\n",
    "    general = [track[\"loudness\"], track[\"tempo\"], track[\"time_signature\"], track[\"key\"], track[\"mode\"]]\n",
    "    \n",
    "    return general\n",
    ""
   ]
  },
  {
   "cell_type": "code",
   "execution_count": null,
   "metadata": {},
   "outputs": [],
   "source": [
    "# Returns pitches of each segment from a track analysis\n",
    "def creates_pitches_info(track_analysis):\n",
    "    pitches = []\n",
    "    for segment in track_analysis[\"segments\"] :\n",
    "        pitches.append(segment[\"pitches\"])\n",
    "\n",
    "    return pitches\n",
    ""
   ]
  },
  {
   "cell_type": "code",
   "execution_count": null,
   "metadata": {},
   "outputs": [],
   "source": [
    "# Returns timbres of each segment from a track analysis\n",
    "def creates_timbre_info(track_analysis):\n",
    "    timbres = []\n",
    "    for segment in track_analysis[\"segments\"] :\n",
    "        timbres.append(segment[\"timbre\"])\n",
    "\n",
    "    return timbres\n",
    ""
   ]
  },
  {
   "cell_type": "code",
   "execution_count": null,
   "metadata": {},
   "outputs": [],
   "source": [
    "# Applies PCA to a list of values returnins only 'components parameter' number of principal componentes\n",
    "def pca(info, components) :\n",
    "    pca = PCA(n_components=components)\n",
    "    x = pca.fit_transform(info)\n",
    "\n",
    "    return x\n",
    ""
   ]
  },
  {
   "cell_type": "code",
   "execution_count": null,
   "metadata": {},
   "outputs": [],
   "source": [
    "# Creates a single list concatenating general info, pitches_pca info and timbre_pca info\n",
    "def concatenate_info(general, pitches, timbre):\n",
    "    for pitch in pitches :\n",
    "        general.append(pitch[0])\n",
    "\n",
    "    for timbr in timbre :\n",
    "        general.append(timbr[0])\n",
    "\n",
    "    return general\n",
    ""
   ]
  },
  {
   "cell_type": "code",
   "execution_count": null,
   "metadata": {},
   "outputs": [],
   "source": [
    "# Processes a single track by their Spotify ID creating our usable analysis\n",
    "def track_analysis(token, trackID):\n",
    "    track_analysis = audio_analysis(token, trackID)\n",
    "\n",
    "    track_data = creates_general_info(track_analysis)\n",
    "\n",
    "    return track_data\n",
    "\n",
    "def bisecting_KMeans(data_set, cluster_number):\n",
    "    bisect_means = BisectingKMeans(n_clusters=cluster_number)\n",
    "\n",
    "    return bisect_means.fit_transform(data_set)\n",
    "\n",
    "def plot(data, names, method_name):\n",
    "    x=[]\n",
    "    for i in range(len(data)):\n",
    "        x.append(data[i][0])\n",
    "\n",
    "    y=[]\n",
    "    for i in range(len(data)):\n",
    "        y.append(data[i][1])\n",
    "\n",
    "    plt.plot(x, y,'o', color='black')\n",
    "    labels = []\n",
    "    for i in range(len(names)):\n",
    "        labels.append(names[i])\n",
    "\n",
    "    # Create a scatter plot\n",
    "    plt.scatter(x, y)\n",
    "\n",
    "    # Add labels to each dot\n",
    "    for i, label in enumerate(labels):\n",
    "        plt.annotate(label, (x[i], y[i]), textcoords=\"offset points\", xytext=(0, 10), ha='center')\n",
    "\n",
    "    plt.xlabel('x axis')\n",
    "    plt.ylabel('y axis')\n",
    "\n",
    "    plt.title(method_name)\n",
    "    plt.show()\n",
    ""
   ]
  },
  {
   "cell_type": "code",
   "execution_count": null,
   "metadata": {},
   "outputs": [],
   "source": [
    "# MAIN\n",
    "# Retrieves a token\n",
    "token = get_token()\n",
    ""
   ]
  },
  {
   "cell_type": "code",
   "execution_count": null,
   "metadata": {},
   "outputs": [],
   "source": [
    "# Opens a .txt file containing track's spotify ID's *each track must end with a newline and the EOF is represented by a blank line* \n",
    "tracks = open('prueba.txt', 'r')\n",
    ""
   ]
  },
  {
   "cell_type": "code",
   "execution_count": null,
   "metadata": {},
   "outputs": [],
   "source": [
    "# Creates a dataframe to store tracks analysis\n",
    "data_set = pandas.DataFrame()\n",
    ""
   ]
  },
  {
   "cell_type": "code",
   "execution_count": null,
   "metadata": {},
   "outputs": [],
   "source": [
    "# Creates a list to store song_name - artist_name\n",
    "row_names = []\n",
    ""
   ]
  },
  {
   "cell_type": "code",
   "execution_count": null,
   "metadata": {},
   "outputs": [],
   "source": [
    "# Iterate over .txt file concatenating each track analysis and name - artist on data_set data frame\n",
    "for track in tracks :\n",
    "    track = str(track) # El id del track lo convierte a string\n",
    "    track = track[:-1] # Cada id se compone de la siguiente manera: string + '\\n'\n",
    "                       # con esta indicación quitamos el '\\n' para que la API pueda leer el id.\n",
    "    try:\n",
    "        aux = track_analysis(token, track) # Sacamos una lista con los datos de analisis de cada cancion. Ver linea 80\n",
    "        data_set = pandas.concat([data_set, pandas.DataFrame([aux])], axis = 0) # Añadimos el analisis recien obtenido al final del data frame\n",
    "        track_information = audio_information(token, track) # Obtenemos información general de la canción. Ver linea 68\n",
    "        name = track_information[\"name\"] # Obtenemos el nombre de la canción\n",
    "        band = track_information[\"artists\"][0][\"name\"] # Obtenemos el nombre del artista\n",
    "        new_row = f'{name} - {band}' # hacemos una nueva strin name + band\n",
    "        row_names.append(new_row) # Añadimos el string a una lista que guarda todos los nombres\n",
    "    except:\n",
    "        print(\"Error en el track: \" + track)\n",
    "        continue\n",
    ""
   ]
  },
  {
   "cell_type": "code",
   "execution_count": null,
   "metadata": {},
   "outputs": [],
   "source": [
    "# Reducing dimensionality to 2 of the whole data set\n",
    "#final_data_set = pandas.DataFrame(pca(data_set, 2))\n",
    ""
   ]
  },
  {
   "cell_type": "code",
   "execution_count": null,
   "metadata": {},
   "outputs": [],
   "source": [
    "# Clustering by KMeans method\n",
    "kmeans = KMeans(n_clusters=10, random_state=0, n_init=\"auto\").fit_transform(data_set)\n",
    ""
   ]
  },
  {
   "cell_type": "code",
   "execution_count": null,
   "metadata": {},
   "outputs": [],
   "source": [
    "# Plotting trained data\n",
    "plot(kmeans, row_names, \"KMeans\")\n",
    ""
   ]
  },
  {
   "cell_type": "code",
   "execution_count": null,
   "metadata": {},
   "outputs": [],
   "source": [
    "# Clustering by Affinity Propagation\n",
    "affinityPropagation = AffinityPropagation(random_state=5).fit(data_set)\n",
    ""
   ]
  },
  {
   "cell_type": "code",
   "execution_count": null,
   "metadata": {},
   "outputs": [],
   "source": [
    "# Clustering by Bisecting KMeans method\n",
    "bisectingKMeans = bisecting_KMeans(data_set, 2)\n",
    ""
   ]
  },
  {
   "cell_type": "code",
   "execution_count": null,
   "metadata": {},
   "outputs": [],
   "source": [
    "# Plotting trained data\n",
    "plot(bisectingKMeans, row_names, \"Bisecting KMeans\")"
   ]
  },
  {
   "cell_type": "code",
   "execution_count": null,
   "metadata": {},
   "outputs": [],
   "source": [
    ""
   ]
  }
 ],
 "nbformat": 4,
 "nbformat_minor": 2,
 "metadata": {
  "language_info": {
   "codemirror_mode": {
    "name": "ipython",
    "version": 3
   },
   "file_extension": ".py",
   "mimetype": "text/x-python",
   "name": "python",
   "nbconvert_exporter": "python",
   "pygments_lexer": "ipython3",
   "version": 3
  },
  "orig_nbformat": 4
 }
}