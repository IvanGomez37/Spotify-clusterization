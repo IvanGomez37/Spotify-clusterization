{
 "cells": [
  {
   "attachments": {},
   "cell_type": "markdown",
   "metadata": {},
   "source": [
    "# SONGS CLASSIFIER \n",
    "## Machine learning system that clusterizes songs, based on its analysis provided directly from Spotify's API service.\n",
    "### Ivan Yahir Gómez Mancilla - Ivan Ibarra Antonio Alfaro\n",
    "#### *Proyecto Final | Aprendizaje Inteligente | Ingenieria en Computacion Inteligente | Universidad Autonoma de Aguascalientes*"
   ]
  },
  {
   "attachments": {},
   "cell_type": "markdown",
   "metadata": {},
   "source": [
    "- IMPORTS"
   ]
  },
  {
   "cell_type": "code",
   "execution_count": 37,
   "metadata": {},
   "outputs": [],
   "source": [
    "# General\n",
    "import numpy\n",
    "import pandas\n",
    "\n",
    "# API Consuming\n",
    "import requests\n",
    "import base64\n",
    "import json\n",
    "\n",
    "# Machine learning\n",
    "from sklearn.decomposition import PCA\n",
    "from sklearn.cluster import KMeans\n",
    "\n",
    "# Plotting\n",
    "import matplotlib.pyplot as plt\n",
    "\n",
    "# Model Evaluation\n",
    "from sklearn import metrics\n",
    "from sklearn.metrics import pairwise_distances\n",
    "from sklearn.metrics import davies_bouldin_score\n"
   ]
  },
  {
   "attachments": {},
   "cell_type": "markdown",
   "metadata": {},
   "source": [
    "- GLOBAL VARIABLES"
   ]
  },
  {
   "cell_type": "code",
   "execution_count": 38,
   "metadata": {},
   "outputs": [],
   "source": [
    "# API client credentials\n",
    "client_id = 'ce7fc85dbeaa40588c0a73a324a7654b'\n",
    "client_secret = '8388086841354dd4bada7a48dfe91b72'\n"
   ]
  },
  {
   "attachments": {},
   "cell_type": "markdown",
   "metadata": {},
   "source": [
    "- FUNCTIONS"
   ]
  },
  {
   "cell_type": "code",
   "execution_count": 39,
   "metadata": {},
   "outputs": [],
   "source": [
    "# Retrieves and convert token for using at Spotify's API\n",
    "def get_token() :\n",
    "    auth_string = client_id + \":\" + client_secret\n",
    "    auth_bytes = auth_string.encode(\"utf-8\")\n",
    "    auth_base64 = str(base64.b64encode(auth_bytes), \"utf-8\")\n",
    "\n",
    "    url = 'https://accounts.spotify.com/api/token'\n",
    "    headers = {\n",
    "        \"Authorization\" : \"Basic \" + auth_base64,\n",
    "        \"content-Type\" : \"application/x-www-form-urlencoded\"\n",
    "    }\n",
    "    data = {\"grant_type\" : \"client_credentials\"}\n",
    "\n",
    "    result = requests.post(url, headers = headers, data = data)\n",
    "\n",
    "    json_result = json.loads(result.content)\n",
    "    token = json_result[\"access_token\"]\n",
    "\n",
    "    return token\n"
   ]
  },
  {
   "cell_type": "code",
   "execution_count": 40,
   "metadata": {},
   "outputs": [],
   "source": [
    "# Gives token a usable format to use in headers when requesting from API\n",
    "def get_auth_header(token):\n",
    "    return {\"Authorization\" : \"Bearer \" + token}\n"
   ]
  },
  {
   "cell_type": "code",
   "execution_count": 41,
   "metadata": {},
   "outputs": [],
   "source": [
    "# Retrieves infomation from API from several tracks with their spotify ID's separeted by a coma (max 50 spotify ID's)\n",
    "def search_several_tracks(token, tracks):\n",
    "    url = 'https://api.spotify.com/v1/tracks'\n",
    "    headers = get_auth_header(token)\n",
    "    query = f\"?ids={tracks}\"\n",
    "\n",
    "    query_url = url + query\n",
    "\n",
    "    result = requests.get(query_url, headers=headers)\n",
    "\n",
    "    json_result = json.loads(result.content)\n",
    "\n",
    "    print(json_result)\n"
   ]
  },
  {
   "cell_type": "code",
   "execution_count": 42,
   "metadata": {},
   "outputs": [],
   "source": [
    "# Retrieves audio analysis from API from a single track\n",
    "def audio_analysis(token, track_id):\n",
    "    url = 'https://api.spotify.com/v1/audio-analysis/'\n",
    "    headers = get_auth_header(token)\n",
    "    query_url = url + track_id\n",
    "\n",
    "    result = requests.get(query_url, headers = headers)\n",
    "\n",
    "    json_result = json.loads(result.content)\n",
    "\n",
    "    return json_result\n"
   ]
  },
  {
   "cell_type": "code",
   "execution_count": 43,
   "metadata": {},
   "outputs": [],
   "source": [
    "# Retrieves information from API from a single track\n",
    "def audio_information(token, track_id):\n",
    "    url = 'https://api.spotify.com/v1/tracks/'\n",
    "    headers = get_auth_header(token)\n",
    "    query_url = url + track_id\n",
    "\n",
    "    result = requests.get(query_url, headers = headers)\n",
    "\n",
    "    json_result = json.loads(result.content)\n",
    "\n",
    "    return json_result\n"
   ]
  },
  {
   "cell_type": "code",
   "execution_count": 44,
   "metadata": {},
   "outputs": [],
   "source": [
    "# Returns a list whit general info from a track analysis (duration, loudness, tempo, time_signature, key, mode)\n",
    "def creates_general_info(track_analysis):\n",
    "    track = track_analysis[\"track\"]\n",
    "    general = [track[\"loudness\"], track[\"tempo\"], track[\"time_signature\"], track[\"key\"], track[\"mode\"]]\n",
    "    \n",
    "    return general\n"
   ]
  },
  {
   "cell_type": "code",
   "execution_count": 45,
   "metadata": {},
   "outputs": [],
   "source": [
    "# Applies PCA to a list of values returnins only 'components parameter' number of principal componentes\n",
    "def pca(info, components) :\n",
    "    pca = PCA(n_components=components)\n",
    "    x = pca.fit_transform(info)\n",
    "\n",
    "    return x\n"
   ]
  },
  {
   "cell_type": "code",
   "execution_count": 46,
   "metadata": {},
   "outputs": [],
   "source": [
    "# Processes a single track by their Spotify ID creating our usable analysis\n",
    "def track_analysis(token, trackID):\n",
    "    track_analysis = audio_analysis(token, trackID)\n",
    "\n",
    "    track_data = creates_general_info(track_analysis)\n",
    "\n",
    "    return track_data"
   ]
  },
  {
   "attachments": {},
   "cell_type": "markdown",
   "metadata": {},
   "source": [
    "- MAIN"
   ]
  },
  {
   "attachments": {},
   "cell_type": "markdown",
   "metadata": {},
   "source": [
    "        -  Data set construction"
   ]
  },
  {
   "cell_type": "code",
   "execution_count": 47,
   "metadata": {},
   "outputs": [],
   "source": [
    "# Retrieves a token\n",
    "token = get_token()"
   ]
  },
  {
   "cell_type": "code",
   "execution_count": 48,
   "metadata": {},
   "outputs": [],
   "source": [
    "# Opens a .txt file containing track's spotify ID's *each track must end with a newline and the EOF is represented by a blank line* \n",
    "tracks = open('prueba.txt', 'r')"
   ]
  },
  {
   "cell_type": "code",
   "execution_count": 49,
   "metadata": {},
   "outputs": [],
   "source": [
    "# Creates a dataframe to store tracks analysis\n",
    "data_set = pandas.DataFrame()"
   ]
  },
  {
   "cell_type": "code",
   "execution_count": 50,
   "metadata": {},
   "outputs": [],
   "source": [
    "# Creates a list to store song_name - artist_name\n",
    "row_names = []"
   ]
  },
  {
   "cell_type": "code",
   "execution_count": 51,
   "metadata": {},
   "outputs": [],
   "source": [
    "# Iterate over .txt file concatenating each track analysis and name - artist on data_set data frame\n",
    "for track in tracks :\n",
    "    track = str(track) # El id del track lo convierte a string\n",
    "    track = track[:-1] # Cada id se compone de la siguiente manera: string + '\\n'\n",
    "                       # con esta indicación quitamos el '\\n' para que la API pueda leer el id.\n",
    "    try:\n",
    "        aux = track_analysis(token, track) # Sacamos una lista con los datos de analisis de cada cancion. Ver linea 80\n",
    "        data_set = pandas.concat([data_set, pandas.DataFrame([aux])], axis = 0) # Añadimos el analisis recien obtenido al final del data frame\n",
    "        track_information = audio_information(token, track) # Obtenemos información general de la canción. Ver linea 68\n",
    "        name = track_information[\"name\"] # Obtenemos el nombre de la canción\n",
    "        band = track_information[\"artists\"][0][\"name\"] # Obtenemos el nombre del artista\n",
    "        new_row = f'{name} - {band}' # hacemos una nueva strin name + band\n",
    "        row_names.append(new_row) # Añadimos el string a una lista que guarda todos los nombres\n",
    "    except:\n",
    "        print(\"Error en el track: \" + track)\n",
    "        continue"
   ]
  },
  {
   "cell_type": "code",
   "execution_count": 69,
   "metadata": {},
   "outputs": [],
   "source": [
    "# Transforming row_names list onto data frame\n",
    "row_names_df = pandas.DataFrame(row_names)"
   ]
  },
  {
   "attachments": {},
   "cell_type": "markdown",
   "metadata": {},
   "source": [
    "        - Machine Learning Methods"
   ]
  },
  {
   "cell_type": "code",
   "execution_count": 70,
   "metadata": {},
   "outputs": [],
   "source": [
    "# Applying PCA to data_set\n",
    "final_data_set = pandas.DataFrame(pca(data_set, 2))"
   ]
  },
  {
   "cell_type": "code",
   "execution_count": 116,
   "metadata": {},
   "outputs": [],
   "source": [
    "# Clustering by KMeans method\n",
    "kmeans = KMeans(n_clusters = 150, n_init = 'auto')\n",
    "\n",
    "label = kmeans.fit_predict(final_data_set)\n",
    "u_labels = numpy.unique(label)\n",
    "\n",
    "centroids = kmeans.cluster_centers_"
   ]
  },
  {
   "attachments": {},
   "cell_type": "markdown",
   "metadata": {},
   "source": [
    "        - Plotting\n",
    "    "
   ]
  },
  {
   "cell_type": "code",
   "execution_count": null,
   "metadata": {},
   "outputs": [],
   "source": [
    "# Plotting figure\n",
    "plt.figure(figsize=(40,30))\n",
    "\n",
    "for (x,y,z) in zip(final_data_set[0], final_data_set[1], row_names_df[0]):\n",
    "    plt.text(x,y,z,va='bottom', ha='center', alpha = 0.2)\n",
    "\n",
    "for i in u_labels:\n",
    "   plt.scatter(final_data_set[label == i][0] , final_data_set[label == i][1], label = i)\n",
    "\n",
    "plt.scatter(centroids[:,0] , centroids[:,1] , s = 1600, color = 'r', alpha = 0.3)\n",
    "\n",
    "plt.legend()\n",
    "plt.show()"
   ]
  },
  {
   "attachments": {},
   "cell_type": "markdown",
   "metadata": {},
   "source": [
    "        - Evaluation"
   ]
  },
  {
   "cell_type": "code",
   "execution_count": 118,
   "metadata": {},
   "outputs": [],
   "source": [
    "# Obtaining labels for model evaluation\n",
    "labels = kmeans.labels_"
   ]
  },
  {
   "cell_type": "code",
   "execution_count": 119,
   "metadata": {},
   "outputs": [
    {
     "name": "stdout",
     "output_type": "stream",
     "text": [
      "0.2428675372267668\n"
     ]
    }
   ],
   "source": [
    "# Evaluating by Silhouette Coefficient. Range: (-1, 1) being 1 the best score\n",
    "print(metrics.silhouette_score(final_data_set, labels, metric='euclidean'))"
   ]
  },
  {
   "cell_type": "code",
   "execution_count": 120,
   "metadata": {},
   "outputs": [
    {
     "name": "stdout",
     "output_type": "stream",
     "text": [
      "3779.0411326642015\n"
     ]
    }
   ],
   "source": [
    "# Evaluating by Calinski-Harabasz Index. The highest score, the better.\n",
    "print(metrics.calinski_harabasz_score(final_data_set, labels))"
   ]
  },
  {
   "cell_type": "code",
   "execution_count": 121,
   "metadata": {},
   "outputs": [
    {
     "name": "stdout",
     "output_type": "stream",
     "text": [
      "0.21331550930114068\n"
     ]
    }
   ],
   "source": [
    "# Evaluating by Davies-Bouldin Index. Being zero the lowest possible score, the minimum score, the better\n",
    "print(davies_bouldin_score(final_data_set, labels))"
   ]
  }
 ],
 "metadata": {
  "kernelspec": {
   "display_name": "Python 3",
   "language": "python",
   "name": "python3"
  },
  "language_info": {
   "codemirror_mode": {
    "name": "ipython",
    "version": 3
   },
   "file_extension": ".py",
   "mimetype": "text/x-python",
   "name": "python",
   "nbconvert_exporter": "python",
   "pygments_lexer": "ipython3",
   "version": "3.10.11"
  },
  "orig_nbformat": 4
 },
 "nbformat": 4,
 "nbformat_minor": 2
}
